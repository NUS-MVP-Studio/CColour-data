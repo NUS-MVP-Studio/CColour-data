{
 "cells": [
  {
   "cell_type": "code",
   "execution_count": 1,
   "metadata": {},
   "outputs": [],
   "source": [
    "import pandas as pd\n",
    "import numpy as np"
   ]
  },
  {
   "cell_type": "markdown",
   "metadata": {},
   "source": [
    "# Reduce master list size for colour desc"
   ]
  },
  {
   "cell_type": "code",
   "execution_count": 2,
   "metadata": {},
   "outputs": [],
   "source": [
    "dfColours = pd.read_csv('../data/interim/Desc.csv')"
   ]
  },
  {
   "cell_type": "code",
   "execution_count": 5,
   "metadata": {},
   "outputs": [],
   "source": [
    "dfColours.to_csv('list.csv')"
   ]
  },
  {
   "cell_type": "markdown",
   "metadata": {},
   "source": [
    "# Generate Code files\n",
    "Read from masterlist and generate code file\n",
    "\n",
    "Testing: only main colours"
   ]
  },
  {
   "cell_type": "code",
   "execution_count": 63,
   "metadata": {},
   "outputs": [],
   "source": [
    "df_colour = pd.read_csv(\"colour.txt\", header=None)"
   ]
  },
  {
   "cell_type": "code",
   "execution_count": 69,
   "metadata": {},
   "outputs": [
    {
     "data": {
      "text/html": [
       "<div>\n",
       "<style scoped>\n",
       "    .dataframe tbody tr th:only-of-type {\n",
       "        vertical-align: middle;\n",
       "    }\n",
       "\n",
       "    .dataframe tbody tr th {\n",
       "        vertical-align: top;\n",
       "    }\n",
       "\n",
       "    .dataframe thead th {\n",
       "        text-align: right;\n",
       "    }\n",
       "</style>\n",
       "<table border=\"1\" class=\"dataframe\">\n",
       "  <thead>\n",
       "    <tr style=\"text-align: right;\">\n",
       "      <th></th>\n",
       "      <th>0</th>\n",
       "      <th>1</th>\n",
       "      <th>2</th>\n",
       "      <th>3</th>\n",
       "      <th>4</th>\n",
       "      <th>5</th>\n",
       "      <th>6</th>\n",
       "    </tr>\n",
       "  </thead>\n",
       "  <tbody>\n",
       "    <tr>\n",
       "      <th>0</th>\n",
       "      <td>Blood red</td>\n",
       "      <td>0x66</td>\n",
       "      <td>0x00</td>\n",
       "      <td>0x00</td>\n",
       "      <td>0.0F</td>\n",
       "      <td>1.0F</td>\n",
       "      <td>0.2F</td>\n",
       "    </tr>\n",
       "    <tr>\n",
       "      <th>1</th>\n",
       "      <td>Middle red purple</td>\n",
       "      <td>0xA5</td>\n",
       "      <td>0x53</td>\n",
       "      <td>0x53</td>\n",
       "      <td>0.0F</td>\n",
       "      <td>0.33F</td>\n",
       "      <td>0.49F</td>\n",
       "    </tr>\n",
       "    <tr>\n",
       "      <th>2</th>\n",
       "      <td>Rosy brown</td>\n",
       "      <td>0xBC</td>\n",
       "      <td>0x8F</td>\n",
       "      <td>0x8F</td>\n",
       "      <td>0.0F</td>\n",
       "      <td>0.25F</td>\n",
       "      <td>0.65F</td>\n",
       "    </tr>\n",
       "    <tr>\n",
       "      <th>3</th>\n",
       "      <td>Rosso corsa</td>\n",
       "      <td>0xD4</td>\n",
       "      <td>0x00</td>\n",
       "      <td>0x00</td>\n",
       "      <td>0.0F</td>\n",
       "      <td>1.0F</td>\n",
       "      <td>0.42F</td>\n",
       "    </tr>\n",
       "    <tr>\n",
       "      <th>4</th>\n",
       "      <td>Rose taupe</td>\n",
       "      <td>0x90</td>\n",
       "      <td>0x5D</td>\n",
       "      <td>0x5D</td>\n",
       "      <td>0.0F</td>\n",
       "      <td>0.22F</td>\n",
       "      <td>0.46F</td>\n",
       "    </tr>\n",
       "  </tbody>\n",
       "</table>\n",
       "</div>"
      ],
      "text/plain": [
       "                   0     1     2     3     4      5      6\n",
       "0          Blood red  0x66  0x00  0x00  0.0F   1.0F   0.2F\n",
       "1  Middle red purple  0xA5  0x53  0x53  0.0F  0.33F  0.49F\n",
       "2         Rosy brown  0xBC  0x8F  0x8F  0.0F  0.25F  0.65F\n",
       "3        Rosso corsa  0xD4  0x00  0x00  0.0F   1.0F  0.42F\n",
       "4         Rose taupe  0x90  0x5D  0x5D  0.0F  0.22F  0.46F"
      ]
     },
     "execution_count": 69,
     "metadata": {},
     "output_type": "execute_result"
    }
   ],
   "source": [
    "df_colour.head()"
   ]
  },
  {
   "cell_type": "code",
   "execution_count": 74,
   "metadata": {},
   "outputs": [],
   "source": [
    "df_colour[4] = df_colour[4].map(lambda x: float(x.rstrip('F')))"
   ]
  },
  {
   "cell_type": "code",
   "execution_count": 76,
   "metadata": {},
   "outputs": [],
   "source": [
    "df_colour[5] = df_colour[5].map(lambda x: float(x.rstrip('F')))\n",
    "df_colour[6] = df_colour[6].map(lambda x: float(x.rstrip('F')))"
   ]
  },
  {
   "cell_type": "code",
   "execution_count": 77,
   "metadata": {},
   "outputs": [
    {
     "data": {
      "text/html": [
       "<div>\n",
       "<style scoped>\n",
       "    .dataframe tbody tr th:only-of-type {\n",
       "        vertical-align: middle;\n",
       "    }\n",
       "\n",
       "    .dataframe tbody tr th {\n",
       "        vertical-align: top;\n",
       "    }\n",
       "\n",
       "    .dataframe thead th {\n",
       "        text-align: right;\n",
       "    }\n",
       "</style>\n",
       "<table border=\"1\" class=\"dataframe\">\n",
       "  <thead>\n",
       "    <tr style=\"text-align: right;\">\n",
       "      <th></th>\n",
       "      <th>0</th>\n",
       "      <th>1</th>\n",
       "      <th>2</th>\n",
       "      <th>3</th>\n",
       "      <th>4</th>\n",
       "      <th>5</th>\n",
       "      <th>6</th>\n",
       "    </tr>\n",
       "  </thead>\n",
       "  <tbody>\n",
       "    <tr>\n",
       "      <th>0</th>\n",
       "      <td>Blood red</td>\n",
       "      <td>0x66</td>\n",
       "      <td>0x00</td>\n",
       "      <td>0x00</td>\n",
       "      <td>0.0</td>\n",
       "      <td>1.00</td>\n",
       "      <td>0.20</td>\n",
       "    </tr>\n",
       "    <tr>\n",
       "      <th>1</th>\n",
       "      <td>Middle red purple</td>\n",
       "      <td>0xA5</td>\n",
       "      <td>0x53</td>\n",
       "      <td>0x53</td>\n",
       "      <td>0.0</td>\n",
       "      <td>0.33</td>\n",
       "      <td>0.49</td>\n",
       "    </tr>\n",
       "    <tr>\n",
       "      <th>2</th>\n",
       "      <td>Rosy brown</td>\n",
       "      <td>0xBC</td>\n",
       "      <td>0x8F</td>\n",
       "      <td>0x8F</td>\n",
       "      <td>0.0</td>\n",
       "      <td>0.25</td>\n",
       "      <td>0.65</td>\n",
       "    </tr>\n",
       "    <tr>\n",
       "      <th>3</th>\n",
       "      <td>Rosso corsa</td>\n",
       "      <td>0xD4</td>\n",
       "      <td>0x00</td>\n",
       "      <td>0x00</td>\n",
       "      <td>0.0</td>\n",
       "      <td>1.00</td>\n",
       "      <td>0.42</td>\n",
       "    </tr>\n",
       "    <tr>\n",
       "      <th>4</th>\n",
       "      <td>Rose taupe</td>\n",
       "      <td>0x90</td>\n",
       "      <td>0x5D</td>\n",
       "      <td>0x5D</td>\n",
       "      <td>0.0</td>\n",
       "      <td>0.22</td>\n",
       "      <td>0.46</td>\n",
       "    </tr>\n",
       "  </tbody>\n",
       "</table>\n",
       "</div>"
      ],
      "text/plain": [
       "                   0     1     2     3    4     5     6\n",
       "0          Blood red  0x66  0x00  0x00  0.0  1.00  0.20\n",
       "1  Middle red purple  0xA5  0x53  0x53  0.0  0.33  0.49\n",
       "2         Rosy brown  0xBC  0x8F  0x8F  0.0  0.25  0.65\n",
       "3        Rosso corsa  0xD4  0x00  0x00  0.0  1.00  0.42\n",
       "4         Rose taupe  0x90  0x5D  0x5D  0.0  0.22  0.46"
      ]
     },
     "execution_count": 77,
     "metadata": {},
     "output_type": "execute_result"
    }
   ],
   "source": [
    "df_colour.head()"
   ]
  },
  {
   "cell_type": "code",
   "execution_count": 74,
   "metadata": {},
   "outputs": [],
   "source": []
  },
  {
   "cell_type": "code",
   "execution_count": 78,
   "metadata": {},
   "outputs": [
    {
     "data": {
      "text/html": [
       "<div>\n",
       "<style scoped>\n",
       "    .dataframe tbody tr th:only-of-type {\n",
       "        vertical-align: middle;\n",
       "    }\n",
       "\n",
       "    .dataframe tbody tr th {\n",
       "        vertical-align: top;\n",
       "    }\n",
       "\n",
       "    .dataframe thead th {\n",
       "        text-align: right;\n",
       "    }\n",
       "</style>\n",
       "<table border=\"1\" class=\"dataframe\">\n",
       "  <thead>\n",
       "    <tr style=\"text-align: right;\">\n",
       "      <th></th>\n",
       "      <th>0</th>\n",
       "      <th>1</th>\n",
       "      <th>2</th>\n",
       "      <th>3</th>\n",
       "      <th>4</th>\n",
       "      <th>5</th>\n",
       "      <th>6</th>\n",
       "    </tr>\n",
       "  </thead>\n",
       "  <tbody>\n",
       "    <tr>\n",
       "      <th>0</th>\n",
       "      <td>Blood red</td>\n",
       "      <td>0x66</td>\n",
       "      <td>0x00</td>\n",
       "      <td>0x00</td>\n",
       "      <td>0.0</td>\n",
       "      <td>1.00</td>\n",
       "      <td>0.20</td>\n",
       "    </tr>\n",
       "    <tr>\n",
       "      <th>22</th>\n",
       "      <td>Falu red</td>\n",
       "      <td>0x80</td>\n",
       "      <td>0x18</td>\n",
       "      <td>0x18</td>\n",
       "      <td>0.0</td>\n",
       "      <td>0.68</td>\n",
       "      <td>0.30</td>\n",
       "    </tr>\n",
       "    <tr>\n",
       "      <th>21</th>\n",
       "      <td>Dark sienna</td>\n",
       "      <td>0x3C</td>\n",
       "      <td>0x14</td>\n",
       "      <td>0x14</td>\n",
       "      <td>0.0</td>\n",
       "      <td>0.50</td>\n",
       "      <td>0.16</td>\n",
       "    </tr>\n",
       "    <tr>\n",
       "      <th>20</th>\n",
       "      <td>Tuscan red</td>\n",
       "      <td>0x7C</td>\n",
       "      <td>0x48</td>\n",
       "      <td>0x48</td>\n",
       "      <td>0.0</td>\n",
       "      <td>0.27</td>\n",
       "      <td>0.38</td>\n",
       "    </tr>\n",
       "    <tr>\n",
       "      <th>19</th>\n",
       "      <td>Firebrick</td>\n",
       "      <td>0xB2</td>\n",
       "      <td>0x22</td>\n",
       "      <td>0x22</td>\n",
       "      <td>0.0</td>\n",
       "      <td>0.68</td>\n",
       "      <td>0.42</td>\n",
       "    </tr>\n",
       "  </tbody>\n",
       "</table>\n",
       "</div>"
      ],
      "text/plain": [
       "              0     1     2     3    4     5     6\n",
       "0     Blood red  0x66  0x00  0x00  0.0  1.00  0.20\n",
       "22     Falu red  0x80  0x18  0x18  0.0  0.68  0.30\n",
       "21  Dark sienna  0x3C  0x14  0x14  0.0  0.50  0.16\n",
       "20   Tuscan red  0x7C  0x48  0x48  0.0  0.27  0.38\n",
       "19    Firebrick  0xB2  0x22  0x22  0.0  0.68  0.42"
      ]
     },
     "execution_count": 78,
     "metadata": {},
     "output_type": "execute_result"
    }
   ],
   "source": [
    "df_sorted = df_colour.sort_values([4])\n",
    "df_sorted.head()"
   ]
  },
  {
   "cell_type": "code",
   "execution_count": 79,
   "metadata": {},
   "outputs": [],
   "source": [
    "df_sorted.to_csv(\"colour.csv\", index=False, header=None)"
   ]
  },
  {
   "cell_type": "code",
   "execution_count": 80,
   "metadata": {},
   "outputs": [
    {
     "data": {
      "text/plain": [
       "(806, 7)"
      ]
     },
     "execution_count": 80,
     "metadata": {},
     "output_type": "execute_result"
    }
   ],
   "source": [
    "df_sorted.shape"
   ]
  },
  {
   "cell_type": "code",
   "execution_count": 56,
   "metadata": {},
   "outputs": [
    {
     "data": {
      "text/plain": [
       "(806, 7)"
      ]
     },
     "execution_count": 56,
     "metadata": {},
     "output_type": "execute_result"
    }
   ],
   "source": [
    "df_colour.drop_duplicates(inplace=True)\n",
    "df_colour.shape"
   ]
  },
  {
   "cell_type": "code",
   "execution_count": 46,
   "metadata": {},
   "outputs": [],
   "source": [
    "df_colour.to_csv(\"colour.csv\", index=False)"
   ]
  },
  {
   "cell_type": "code",
   "execution_count": 83,
   "metadata": {},
   "outputs": [],
   "source": [
    "df_grey = pd.read_csv(\"grey.csv\", header=None)"
   ]
  },
  {
   "cell_type": "code",
   "execution_count": 84,
   "metadata": {},
   "outputs": [
    {
     "data": {
      "text/html": [
       "<div>\n",
       "<style scoped>\n",
       "    .dataframe tbody tr th:only-of-type {\n",
       "        vertical-align: middle;\n",
       "    }\n",
       "\n",
       "    .dataframe tbody tr th {\n",
       "        vertical-align: top;\n",
       "    }\n",
       "\n",
       "    .dataframe thead th {\n",
       "        text-align: right;\n",
       "    }\n",
       "</style>\n",
       "<table border=\"1\" class=\"dataframe\">\n",
       "  <thead>\n",
       "    <tr style=\"text-align: right;\">\n",
       "      <th></th>\n",
       "      <th>0</th>\n",
       "      <th>1</th>\n",
       "      <th>2</th>\n",
       "      <th>3</th>\n",
       "      <th>4</th>\n",
       "      <th>5</th>\n",
       "      <th>6</th>\n",
       "    </tr>\n",
       "  </thead>\n",
       "  <tbody>\n",
       "    <tr>\n",
       "      <th>0</th>\n",
       "      <td>Davy's grey</td>\n",
       "      <td>0x55</td>\n",
       "      <td>0x55</td>\n",
       "      <td>0x55</td>\n",
       "      <td>0.0</td>\n",
       "      <td>0.0</td>\n",
       "      <td>0.33</td>\n",
       "    </tr>\n",
       "    <tr>\n",
       "      <th>1</th>\n",
       "      <td>Gainsboro</td>\n",
       "      <td>0xDC</td>\n",
       "      <td>0xDC</td>\n",
       "      <td>0xDC</td>\n",
       "      <td>0.0</td>\n",
       "      <td>0.0</td>\n",
       "      <td>0.86</td>\n",
       "    </tr>\n",
       "    <tr>\n",
       "      <th>2</th>\n",
       "      <td>Light gray</td>\n",
       "      <td>0xD3</td>\n",
       "      <td>0xD3</td>\n",
       "      <td>0xD3</td>\n",
       "      <td>0.0</td>\n",
       "      <td>0.0</td>\n",
       "      <td>0.83</td>\n",
       "    </tr>\n",
       "    <tr>\n",
       "      <th>3</th>\n",
       "      <td>Quick Silver</td>\n",
       "      <td>0xA6</td>\n",
       "      <td>0xA6</td>\n",
       "      <td>0xA6</td>\n",
       "      <td>0.0</td>\n",
       "      <td>0.0</td>\n",
       "      <td>0.65</td>\n",
       "    </tr>\n",
       "    <tr>\n",
       "      <th>4</th>\n",
       "      <td>Spanish gray</td>\n",
       "      <td>0x98</td>\n",
       "      <td>0x98</td>\n",
       "      <td>0x98</td>\n",
       "      <td>0.0</td>\n",
       "      <td>0.0</td>\n",
       "      <td>0.60</td>\n",
       "    </tr>\n",
       "  </tbody>\n",
       "</table>\n",
       "</div>"
      ],
      "text/plain": [
       "              0     1     2     3    4    5     6\n",
       "0   Davy's grey  0x55  0x55  0x55  0.0  0.0  0.33\n",
       "1     Gainsboro  0xDC  0xDC  0xDC  0.0  0.0  0.86\n",
       "2    Light gray  0xD3  0xD3  0xD3  0.0  0.0  0.83\n",
       "3  Quick Silver  0xA6  0xA6  0xA6  0.0  0.0  0.65\n",
       "4  Spanish gray  0x98  0x98  0x98  0.0  0.0  0.60"
      ]
     },
     "execution_count": 84,
     "metadata": {},
     "output_type": "execute_result"
    }
   ],
   "source": [
    "df_grey.head()"
   ]
  },
  {
   "cell_type": "code",
   "execution_count": null,
   "metadata": {},
   "outputs": [],
   "source": []
  }
 ],
 "metadata": {
  "kernelspec": {
   "display_name": "Python 3",
   "language": "python",
   "name": "python3"
  },
  "language_info": {
   "codemirror_mode": {
    "name": "ipython",
    "version": 3
   },
   "file_extension": ".py",
   "mimetype": "text/x-python",
   "name": "python",
   "nbconvert_exporter": "python",
   "pygments_lexer": "ipython3",
   "version": "3.7.6"
  }
 },
 "nbformat": 4,
 "nbformat_minor": 2
}
